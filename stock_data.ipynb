{
 "cells": [
  {
   "cell_type": "code",
   "execution_count": 1,
   "metadata": {},
   "outputs": [],
   "source": [
    "from datetime import datetime, timedelta\n",
    "import pandas as pd\n",
    "import requests\n",
    "import matplotlib.pyplot as plt\n",
    "\n",
    "from FinMind.data import DataLoader"
   ]
  },
  {
   "cell_type": "markdown",
   "metadata": {},
   "source": [
    "# stock date"
   ]
  },
  {
   "cell_type": "markdown",
   "metadata": {},
   "source": [
    "## Arrange stock info"
   ]
  },
  {
   "cell_type": "code",
   "execution_count": 2,
   "metadata": {},
   "outputs": [],
   "source": [
    "dl = DataLoader()\n",
    "stock_no = '2331'\n",
    "start_date = '1994-09-24'"
   ]
  },
  {
   "cell_type": "markdown",
   "metadata": {},
   "source": [
    "## taiwan_stock_daily"
   ]
  },
  {
   "cell_type": "code",
   "execution_count": 3,
   "metadata": {},
   "outputs": [
    {
     "name": "stderr",
     "output_type": "stream",
     "text": [
      "\u001b[32m2024-07-09 19:21:20.589\u001b[0m | \u001b[1mINFO    \u001b[0m | \u001b[36mFinMind.data.finmind_api\u001b[0m:\u001b[36mget_data\u001b[0m:\u001b[36m125\u001b[0m - \u001b[1mdownload Dataset.TaiwanStockPrice, data_id: 2331\u001b[0m\n"
     ]
    }
   ],
   "source": [
    "stock_data = dl.taiwan_stock_daily(stock_no, start_date=start_date)"
   ]
  },
  {
   "cell_type": "code",
   "execution_count": 7,
   "metadata": {},
   "outputs": [
    {
     "data": {
      "text/html": [
       "<div>\n",
       "<style scoped>\n",
       "    .dataframe tbody tr th:only-of-type {\n",
       "        vertical-align: middle;\n",
       "    }\n",
       "\n",
       "    .dataframe tbody tr th {\n",
       "        vertical-align: top;\n",
       "    }\n",
       "\n",
       "    .dataframe thead th {\n",
       "        text-align: right;\n",
       "    }\n",
       "</style>\n",
       "<table border=\"1\" class=\"dataframe\">\n",
       "  <thead>\n",
       "    <tr style=\"text-align: right;\">\n",
       "      <th></th>\n",
       "      <th>date</th>\n",
       "      <th>stock_id</th>\n",
       "      <th>Trading_Volume</th>\n",
       "      <th>Trading_money</th>\n",
       "      <th>open</th>\n",
       "      <th>max</th>\n",
       "      <th>min</th>\n",
       "      <th>close</th>\n",
       "      <th>spread</th>\n",
       "      <th>Trading_turnover</th>\n",
       "    </tr>\n",
       "  </thead>\n",
       "  <tbody>\n",
       "    <tr>\n",
       "      <th>3708</th>\n",
       "      <td>2024-07-01</td>\n",
       "      <td>3131</td>\n",
       "      <td>1206000</td>\n",
       "      <td>1712275000</td>\n",
       "      <td>1350.0</td>\n",
       "      <td>1450.0</td>\n",
       "      <td>1350.0</td>\n",
       "      <td>1415.0</td>\n",
       "      <td>60.0</td>\n",
       "      <td>1142</td>\n",
       "    </tr>\n",
       "    <tr>\n",
       "      <th>3709</th>\n",
       "      <td>2024-07-02</td>\n",
       "      <td>3131</td>\n",
       "      <td>684000</td>\n",
       "      <td>963905000</td>\n",
       "      <td>1415.0</td>\n",
       "      <td>1445.0</td>\n",
       "      <td>1385.0</td>\n",
       "      <td>1390.0</td>\n",
       "      <td>-25.0</td>\n",
       "      <td>657</td>\n",
       "    </tr>\n",
       "    <tr>\n",
       "      <th>3710</th>\n",
       "      <td>2024-07-03</td>\n",
       "      <td>3131</td>\n",
       "      <td>376000</td>\n",
       "      <td>527005000</td>\n",
       "      <td>1435.0</td>\n",
       "      <td>1440.0</td>\n",
       "      <td>1370.0</td>\n",
       "      <td>1375.0</td>\n",
       "      <td>-15.0</td>\n",
       "      <td>366</td>\n",
       "    </tr>\n",
       "    <tr>\n",
       "      <th>3711</th>\n",
       "      <td>2024-07-04</td>\n",
       "      <td>3131</td>\n",
       "      <td>919000</td>\n",
       "      <td>1324220000</td>\n",
       "      <td>1410.0</td>\n",
       "      <td>1500.0</td>\n",
       "      <td>1390.0</td>\n",
       "      <td>1425.0</td>\n",
       "      <td>50.0</td>\n",
       "      <td>856</td>\n",
       "    </tr>\n",
       "    <tr>\n",
       "      <th>3712</th>\n",
       "      <td>2024-07-05</td>\n",
       "      <td>3131</td>\n",
       "      <td>788000</td>\n",
       "      <td>1195895000</td>\n",
       "      <td>1415.0</td>\n",
       "      <td>1565.0</td>\n",
       "      <td>1415.0</td>\n",
       "      <td>1565.0</td>\n",
       "      <td>140.0</td>\n",
       "      <td>736</td>\n",
       "    </tr>\n",
       "  </tbody>\n",
       "</table>\n",
       "</div>"
      ],
      "text/plain": [
       "            date stock_id  Trading_Volume  Trading_money    open     max  \\\n",
       "3708  2024-07-01     3131         1206000     1712275000  1350.0  1450.0   \n",
       "3709  2024-07-02     3131          684000      963905000  1415.0  1445.0   \n",
       "3710  2024-07-03     3131          376000      527005000  1435.0  1440.0   \n",
       "3711  2024-07-04     3131          919000     1324220000  1410.0  1500.0   \n",
       "3712  2024-07-05     3131          788000     1195895000  1415.0  1565.0   \n",
       "\n",
       "         min   close  spread  Trading_turnover  \n",
       "3708  1350.0  1415.0    60.0              1142  \n",
       "3709  1385.0  1390.0   -25.0               657  \n",
       "3710  1370.0  1375.0   -15.0               366  \n",
       "3711  1390.0  1425.0    50.0               856  \n",
       "3712  1415.0  1565.0   140.0               736  "
      ]
     },
     "execution_count": 7,
     "metadata": {},
     "output_type": "execute_result"
    }
   ],
   "source": [
    "query = stock_data['date']>'2024-06-01'\n",
    "month_df = stock_data[query]\n",
    "month_df.tail()"
   ]
  },
  {
   "cell_type": "code",
   "execution_count": 18,
   "metadata": {},
   "outputs": [
    {
     "data": {
      "image/png": "[encoded data removed]",
      "text/plain": [
       "<Figure size 1000x600 with 2 Axes>"
      ]
     },
     "metadata": {},
     "output_type": "display_data"
    }
   ],
   "source": [
    "query = stock_data['date']>'2024-06-01'\n",
    "stock_data = stock_data[query]\n",
    "fig, ax1 = plt.subplots(figsize=(10,6))\n",
    "# 折線圖(價格變化)\n",
    "ax1.plot(stock_data['date'], stock_data['close'], marker='o', linestyle='-', label='Price', color='b')\n",
    "ax1.set_ylabel('Price')\n",
    "\n",
    "ax2 = ax1.twinx()\n",
    "ax2.bar(stock_data['date'], stock_data['Trading_Volume'], label='Volume', color='orange', alpha=0.5)\n",
    "ax2.set_ylabel('Volume')\n",
    "\n",
    "fig.tight_layout()\n",
    "plt.show()"
   ]
  },
  {
   "cell_type": "markdown",
   "metadata": {},
   "source": [
    "## stock investors trade data"
   ]
  },
  {
   "cell_type": "code",
   "execution_count": 12,
   "metadata": {},
   "outputs": [
    {
     "name": "stderr",
     "output_type": "stream",
     "text": [
      "\u001b[32m2024-07-05 10:36:01.174\u001b[0m | \u001b[1mINFO    \u001b[0m | \u001b[36mFinMind.data.finmind_api\u001b[0m:\u001b[36mget_data\u001b[0m:\u001b[36m125\u001b[0m - \u001b[1mdownload Dataset.TaiwanStockInstitutionalInvestorsBuySell, data_id: 00919\u001b[0m\n"
     ]
    }
   ],
   "source": [
    "invest_df = dl.taiwan_stock_institutional_investors(\n",
    "    stock_id=stock_no,\n",
    "    start_date=start_date    \n",
    ")\n",
    "query = invest_df['buy']>0\n",
    "invest_df = invest_df[query]"
   ]
  },
  {
   "cell_type": "markdown",
   "metadata": {},
   "source": [
    "## stock daily news"
   ]
  },
  {
   "cell_type": "code",
   "execution_count": 23,
   "metadata": {},
   "outputs": [
    {
     "data": {
      "text/plain": [
       "{'msg': 'success',\n",
       " 'status': 200,\n",
       " 'data': [{'date': '2024-07-04 07:36:31',\n",
       "   'stock_id': '00919',\n",
       "   'link': 'https://news.google.com/rss/articles/CBMiQ2h0dHBzOi8vd2VhbHRoLmJ1c2luZXNzd2Vla2x5LmNvbS50dy9HQXJ0aWNsZS5hc3B4P2lkPUFSVEwwMDMwMTQxNjPSAQA?oc=5',\n",
       "   'source': '商周財富網',\n",
       "   'title': '00919貼息，該加入定期定額壓低成本嗎？ - 商周財富網'}]}"
      ]
     },
     "metadata": {},
     "output_type": "display_data"
    }
   ],
   "source": [
    "url = 'https://api.finmindtrade.com/api/v4/data'\n",
    "today = datetime.now()\n",
    "yesterday = today - timedelta(days=1)\n",
    "yesterday = yesterday.strftime('%Y-%m-%d')\n",
    "parameter = {\n",
    "    'dataset': 'TaiwanStockNews',\n",
    "    'data_id':stock_no,\n",
    "    'start_date': yesterday,\n",
    "}\n",
    "\n",
    "stock_news = requests.get(url, params=parameter)\n",
    "stock_news = stock_news.json()\n",
    "stock_news = pd.DataFrame(stock_news['data'])\n",
    "stock_news"
   ]
  },
  {
   "cell_type": "markdown",
   "metadata": {},
   "source": [
    "## CnnFearGreedIndex 恐懼與貪婪指數"
   ]
  },
  {
   "cell_type": "code",
   "execution_count": 27,
   "metadata": {},
   "outputs": [
    {
     "data": {
      "text/html": [
       "<div>\n",
       "<style scoped>\n",
       "    .dataframe tbody tr th:only-of-type {\n",
       "        vertical-align: middle;\n",
       "    }\n",
       "\n",
       "    .dataframe tbody tr th {\n",
       "        vertical-align: top;\n",
       "    }\n",
       "\n",
       "    .dataframe thead th {\n",
       "        text-align: right;\n",
       "    }\n",
       "</style>\n",
       "<table border=\"1\" class=\"dataframe\">\n",
       "  <thead>\n",
       "    <tr style=\"text-align: right;\">\n",
       "      <th></th>\n",
       "      <th>date</th>\n",
       "      <th>fear_greed</th>\n",
       "      <th>fear_greed_emotion</th>\n",
       "    </tr>\n",
       "  </thead>\n",
       "  <tbody>\n",
       "    <tr>\n",
       "      <th>0</th>\n",
       "      <td>2024-06-05</td>\n",
       "      <td>45</td>\n",
       "      <td>neutral</td>\n",
       "    </tr>\n",
       "    <tr>\n",
       "      <th>1</th>\n",
       "      <td>2024-06-06</td>\n",
       "      <td>44</td>\n",
       "      <td>fear</td>\n",
       "    </tr>\n",
       "    <tr>\n",
       "      <th>2</th>\n",
       "      <td>2024-06-07</td>\n",
       "      <td>45</td>\n",
       "      <td>neutral</td>\n",
       "    </tr>\n",
       "    <tr>\n",
       "      <th>3</th>\n",
       "      <td>2024-06-10</td>\n",
       "      <td>43</td>\n",
       "      <td>fear</td>\n",
       "    </tr>\n",
       "    <tr>\n",
       "      <th>4</th>\n",
       "      <td>2024-06-11</td>\n",
       "      <td>43</td>\n",
       "      <td>fear</td>\n",
       "    </tr>\n",
       "    <tr>\n",
       "      <th>5</th>\n",
       "      <td>2024-06-12</td>\n",
       "      <td>45</td>\n",
       "      <td>neutral</td>\n",
       "    </tr>\n",
       "    <tr>\n",
       "      <th>6</th>\n",
       "      <td>2024-06-13</td>\n",
       "      <td>40</td>\n",
       "      <td>fear</td>\n",
       "    </tr>\n",
       "    <tr>\n",
       "      <th>7</th>\n",
       "      <td>2024-06-14</td>\n",
       "      <td>38</td>\n",
       "      <td>fear</td>\n",
       "    </tr>\n",
       "    <tr>\n",
       "      <th>8</th>\n",
       "      <td>2024-06-17</td>\n",
       "      <td>41</td>\n",
       "      <td>fear</td>\n",
       "    </tr>\n",
       "    <tr>\n",
       "      <th>9</th>\n",
       "      <td>2024-06-18</td>\n",
       "      <td>44</td>\n",
       "      <td>fear</td>\n",
       "    </tr>\n",
       "    <tr>\n",
       "      <th>10</th>\n",
       "      <td>2024-06-19</td>\n",
       "      <td>42</td>\n",
       "      <td>fear</td>\n",
       "    </tr>\n",
       "    <tr>\n",
       "      <th>11</th>\n",
       "      <td>2024-06-20</td>\n",
       "      <td>40</td>\n",
       "      <td>fear</td>\n",
       "    </tr>\n",
       "    <tr>\n",
       "      <th>12</th>\n",
       "      <td>2024-06-21</td>\n",
       "      <td>39</td>\n",
       "      <td>fear</td>\n",
       "    </tr>\n",
       "    <tr>\n",
       "      <th>13</th>\n",
       "      <td>2024-06-24</td>\n",
       "      <td>39</td>\n",
       "      <td>fear</td>\n",
       "    </tr>\n",
       "    <tr>\n",
       "      <th>14</th>\n",
       "      <td>2024-06-25</td>\n",
       "      <td>39</td>\n",
       "      <td>fear</td>\n",
       "    </tr>\n",
       "    <tr>\n",
       "      <th>15</th>\n",
       "      <td>2024-06-26</td>\n",
       "      <td>44</td>\n",
       "      <td>fear</td>\n",
       "    </tr>\n",
       "    <tr>\n",
       "      <th>16</th>\n",
       "      <td>2024-06-27</td>\n",
       "      <td>43</td>\n",
       "      <td>fear</td>\n",
       "    </tr>\n",
       "    <tr>\n",
       "      <th>17</th>\n",
       "      <td>2024-06-28</td>\n",
       "      <td>48</td>\n",
       "      <td>neutral</td>\n",
       "    </tr>\n",
       "    <tr>\n",
       "      <th>18</th>\n",
       "      <td>2024-07-01</td>\n",
       "      <td>47</td>\n",
       "      <td>neutral</td>\n",
       "    </tr>\n",
       "    <tr>\n",
       "      <th>19</th>\n",
       "      <td>2024-07-02</td>\n",
       "      <td>48</td>\n",
       "      <td>neutral</td>\n",
       "    </tr>\n",
       "    <tr>\n",
       "      <th>20</th>\n",
       "      <td>2024-07-03</td>\n",
       "      <td>44</td>\n",
       "      <td>fear</td>\n",
       "    </tr>\n",
       "    <tr>\n",
       "      <th>21</th>\n",
       "      <td>2024-07-04</td>\n",
       "      <td>44</td>\n",
       "      <td>fear</td>\n",
       "    </tr>\n",
       "  </tbody>\n",
       "</table>\n",
       "</div>"
      ],
      "text/plain": [
       "          date  fear_greed fear_greed_emotion\n",
       "0   2024-06-05          45            neutral\n",
       "1   2024-06-06          44               fear\n",
       "2   2024-06-07          45            neutral\n",
       "3   2024-06-10          43               fear\n",
       "4   2024-06-11          43               fear\n",
       "5   2024-06-12          45            neutral\n",
       "6   2024-06-13          40               fear\n",
       "7   2024-06-14          38               fear\n",
       "8   2024-06-17          41               fear\n",
       "9   2024-06-18          44               fear\n",
       "10  2024-06-19          42               fear\n",
       "11  2024-06-20          40               fear\n",
       "12  2024-06-21          39               fear\n",
       "13  2024-06-24          39               fear\n",
       "14  2024-06-25          39               fear\n",
       "15  2024-06-26          44               fear\n",
       "16  2024-06-27          43               fear\n",
       "17  2024-06-28          48            neutral\n",
       "18  2024-07-01          47            neutral\n",
       "19  2024-07-02          48            neutral\n",
       "20  2024-07-03          44               fear\n",
       "21  2024-07-04          44               fear"
      ]
     },
     "execution_count": 27,
     "metadata": {},
     "output_type": "execute_result"
    }
   ],
   "source": [
    "url = 'https://api.finmindtrade.com/api/v4/data'\n",
    "today = datetime.now()\n",
    "month_before = today - timedelta(days=30)\n",
    "month_before = month_before.strftime('%Y-%m-%d')\n",
    "parameter = {\n",
    "    'dataset': 'CnnFearGreedIndex',\n",
    "    'start_date': month_before,\n",
    "}\n",
    "res = requests.get(url, parameter)\n",
    "res = res.json()\n",
    "res = pd.DataFrame(res['data'])\n",
    "res"
   ]
  },
  {
   "cell_type": "markdown",
   "metadata": {},
   "source": [
    "# Export to excel"
   ]
  },
  {
   "cell_type": "code",
   "execution_count": 4,
   "metadata": {},
   "outputs": [],
   "source": [
    "stock_data.to_excel(f\"stk-{datetime.now().date()}.xlsx\", sheet_name=stock_no)"
   ]
  }
 ],
 "metadata": {
  "kernelspec": {
   "display_name": "venv",
   "language": "python",
   "name": "python3"
  },
  "language_info": {
   "codemirror_mode": {
    "name": "ipython",
    "version": 3
   },
   "file_extension": ".py",
   "mimetype": "text/x-python",
   "name": "python",
   "nbconvert_exporter": "python",
   "pygments_lexer": "ipython3",
   "version": "3.12.4"
  }
 },
 "nbformat": 4,
 "nbformat_minor": 2
}
