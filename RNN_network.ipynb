{
 "cells": [
  {
   "cell_type": "markdown",
   "metadata": {},
   "source": [
    "# Import"
   ]
  },
  {
   "cell_type": "code",
   "execution_count": 78,
   "metadata": {},
   "outputs": [],
   "source": [
    "import numpy as np\n",
    "import pandas as pd\n",
    "import matplotlib.pyplot as plt\n",
    "\n",
    "from sklearn.model_selection import train_test_split\n",
    "from sklearn.preprocessing import MinMaxScaler\n",
    "from tensorflow import keras\n",
    "from tensorflow.keras.models import Sequential\n",
    "from tensorflow.keras.layers import Dense"
   ]
  },
  {
   "cell_type": "code",
   "execution_count": 79,
   "metadata": {},
   "outputs": [],
   "source": [
    "# 標準化處理\n",
    "def standardize(data):\n",
    "    mean = np.mean(data)\n",
    "    std = np.std(data)\n",
    "    standardized_data = (data - mean) / std\n",
    "    return standardized_data\n",
    "\n",
    "# 移動平均處理\n",
    "def moving_average(data, window_size=2):\n",
    "    smoothed_data = np.convolve(data, np.ones(window_size)/window_size, mode='valid')\n",
    "    return smoothed_data"
   ]
  },
  {
   "cell_type": "markdown",
   "metadata": {},
   "source": [
    "# Read excel"
   ]
  },
  {
   "cell_type": "code",
   "execution_count": 101,
   "metadata": {},
   "outputs": [],
   "source": [
    "# excel\n",
    "xl = 'stk-2024-07-09.xlsx'\n",
    "stock_data = pd.read_excel(xl)"
   ]
  },
  {
   "cell_type": "code",
   "execution_count": 102,
   "metadata": {},
   "outputs": [
    {
     "name": "stdout",
     "output_type": "stream",
     "text": [
      "<class 'pandas.core.frame.DataFrame'>\n",
      "RangeIndex: 7524 entries, 0 to 7523\n",
      "Data columns (total 11 columns):\n",
      " #   Column            Non-Null Count  Dtype  \n",
      "---  ------            --------------  -----  \n",
      " 0   Unnamed: 0        7524 non-null   int64  \n",
      " 1   date              7524 non-null   object \n",
      " 2   stock_id          7524 non-null   int64  \n",
      " 3   Trading_Volume    7524 non-null   int64  \n",
      " 4   Trading_money     7524 non-null   int64  \n",
      " 5   open              7524 non-null   float64\n",
      " 6   max               7524 non-null   float64\n",
      " 7   min               7524 non-null   float64\n",
      " 8   close             7524 non-null   float64\n",
      " 9   spread            7524 non-null   float64\n",
      " 10  Trading_turnover  7524 non-null   int64  \n",
      "dtypes: float64(5), int64(5), object(1)\n",
      "memory usage: 646.7+ KB\n"
     ]
    },
    {
     "data": {
      "text/plain": [
       "None"
      ]
     },
     "metadata": {},
     "output_type": "display_data"
    },
    {
     "data": {
      "text/html": [
       "<div>\n",
       "<style scoped>\n",
       "    .dataframe tbody tr th:only-of-type {\n",
       "        vertical-align: middle;\n",
       "    }\n",
       "\n",
       "    .dataframe tbody tr th {\n",
       "        vertical-align: top;\n",
       "    }\n",
       "\n",
       "    .dataframe thead th {\n",
       "        text-align: right;\n",
       "    }\n",
       "</style>\n",
       "<table border=\"1\" class=\"dataframe\">\n",
       "  <thead>\n",
       "    <tr style=\"text-align: right;\">\n",
       "      <th></th>\n",
       "      <th>Unnamed: 0</th>\n",
       "      <th>date</th>\n",
       "      <th>stock_id</th>\n",
       "      <th>Trading_Volume</th>\n",
       "      <th>Trading_money</th>\n",
       "      <th>open</th>\n",
       "      <th>max</th>\n",
       "      <th>min</th>\n",
       "      <th>close</th>\n",
       "      <th>spread</th>\n",
       "      <th>Trading_turnover</th>\n",
       "    </tr>\n",
       "  </thead>\n",
       "  <tbody>\n",
       "    <tr>\n",
       "      <th>7519</th>\n",
       "      <td>7519</td>\n",
       "      <td>2024-07-03</td>\n",
       "      <td>2331</td>\n",
       "      <td>3078036</td>\n",
       "      <td>101519575</td>\n",
       "      <td>32.80</td>\n",
       "      <td>33.25</td>\n",
       "      <td>32.80</td>\n",
       "      <td>32.95</td>\n",
       "      <td>0.30</td>\n",
       "      <td>1608</td>\n",
       "    </tr>\n",
       "    <tr>\n",
       "      <th>7520</th>\n",
       "      <td>7520</td>\n",
       "      <td>2024-07-04</td>\n",
       "      <td>2331</td>\n",
       "      <td>4767228</td>\n",
       "      <td>158660016</td>\n",
       "      <td>33.25</td>\n",
       "      <td>33.55</td>\n",
       "      <td>33.00</td>\n",
       "      <td>33.25</td>\n",
       "      <td>0.30</td>\n",
       "      <td>2205</td>\n",
       "    </tr>\n",
       "    <tr>\n",
       "      <th>7521</th>\n",
       "      <td>7521</td>\n",
       "      <td>2024-07-05</td>\n",
       "      <td>2331</td>\n",
       "      <td>16150517</td>\n",
       "      <td>558199838</td>\n",
       "      <td>33.45</td>\n",
       "      <td>35.15</td>\n",
       "      <td>33.45</td>\n",
       "      <td>34.95</td>\n",
       "      <td>1.70</td>\n",
       "      <td>7941</td>\n",
       "    </tr>\n",
       "    <tr>\n",
       "      <th>7522</th>\n",
       "      <td>7522</td>\n",
       "      <td>2024-07-08</td>\n",
       "      <td>2331</td>\n",
       "      <td>6636115</td>\n",
       "      <td>228813311</td>\n",
       "      <td>35.20</td>\n",
       "      <td>35.20</td>\n",
       "      <td>34.10</td>\n",
       "      <td>34.30</td>\n",
       "      <td>-0.65</td>\n",
       "      <td>4852</td>\n",
       "    </tr>\n",
       "    <tr>\n",
       "      <th>7523</th>\n",
       "      <td>7523</td>\n",
       "      <td>2024-07-09</td>\n",
       "      <td>2331</td>\n",
       "      <td>5642184</td>\n",
       "      <td>189228439</td>\n",
       "      <td>34.35</td>\n",
       "      <td>34.50</td>\n",
       "      <td>33.05</td>\n",
       "      <td>33.20</td>\n",
       "      <td>-1.10</td>\n",
       "      <td>4606</td>\n",
       "    </tr>\n",
       "  </tbody>\n",
       "</table>\n",
       "</div>"
      ],
      "text/plain": [
       "      Unnamed: 0        date  stock_id  Trading_Volume  Trading_money   open  \\\n",
       "7519        7519  2024-07-03      2331         3078036      101519575  32.80   \n",
       "7520        7520  2024-07-04      2331         4767228      158660016  33.25   \n",
       "7521        7521  2024-07-05      2331        16150517      558199838  33.45   \n",
       "7522        7522  2024-07-08      2331         6636115      228813311  35.20   \n",
       "7523        7523  2024-07-09      2331         5642184      189228439  34.35   \n",
       "\n",
       "        max    min  close  spread  Trading_turnover  \n",
       "7519  33.25  32.80  32.95    0.30              1608  \n",
       "7520  33.55  33.00  33.25    0.30              2205  \n",
       "7521  35.15  33.45  34.95    1.70              7941  \n",
       "7522  35.20  34.10  34.30   -0.65              4852  \n",
       "7523  34.50  33.05  33.20   -1.10              4606  "
      ]
     },
     "execution_count": 102,
     "metadata": {},
     "output_type": "execute_result"
    }
   ],
   "source": [
    "display(stock_data.info())\n",
    "stock_data.tail()"
   ]
  },
  {
   "cell_type": "markdown",
   "metadata": {},
   "source": [
    "## standardize"
   ]
  },
  {
   "cell_type": "code",
   "execution_count": 103,
   "metadata": {},
   "outputs": [
    {
     "data": {
      "text/html": [
       "<div>\n",
       "<style scoped>\n",
       "    .dataframe tbody tr th:only-of-type {\n",
       "        vertical-align: middle;\n",
       "    }\n",
       "\n",
       "    .dataframe tbody tr th {\n",
       "        vertical-align: top;\n",
       "    }\n",
       "\n",
       "    .dataframe thead th {\n",
       "        text-align: right;\n",
       "    }\n",
       "</style>\n",
       "<table border=\"1\" class=\"dataframe\">\n",
       "  <thead>\n",
       "    <tr style=\"text-align: right;\">\n",
       "      <th></th>\n",
       "      <th>date</th>\n",
       "      <th>Trading_Volume</th>\n",
       "      <th>Trading_money</th>\n",
       "      <th>open</th>\n",
       "      <th>max</th>\n",
       "      <th>min</th>\n",
       "      <th>close</th>\n",
       "      <th>spread</th>\n",
       "      <th>Trading_turnover</th>\n",
       "    </tr>\n",
       "  </thead>\n",
       "  <tbody>\n",
       "    <tr>\n",
       "      <th>0</th>\n",
       "      <td>1994-09-24</td>\n",
       "      <td>-0.717771</td>\n",
       "      <td>-0.469740</td>\n",
       "      <td>0.749335</td>\n",
       "      <td>0.716216</td>\n",
       "      <td>0.784754</td>\n",
       "      <td>0.751672</td>\n",
       "      <td>2.410647</td>\n",
       "      <td>-0.743277</td>\n",
       "    </tr>\n",
       "    <tr>\n",
       "      <th>1</th>\n",
       "      <td>1994-09-26</td>\n",
       "      <td>-0.717255</td>\n",
       "      <td>-0.469096</td>\n",
       "      <td>0.859348</td>\n",
       "      <td>0.823936</td>\n",
       "      <td>0.897278</td>\n",
       "      <td>0.861804</td>\n",
       "      <td>2.410647</td>\n",
       "      <td>-0.741525</td>\n",
       "    </tr>\n",
       "    <tr>\n",
       "      <th>2</th>\n",
       "      <td>1994-09-27</td>\n",
       "      <td>-0.698539</td>\n",
       "      <td>-0.444840</td>\n",
       "      <td>0.983113</td>\n",
       "      <td>0.945121</td>\n",
       "      <td>1.023867</td>\n",
       "      <td>0.985704</td>\n",
       "      <td>2.713044</td>\n",
       "      <td>-0.700349</td>\n",
       "    </tr>\n",
       "    <tr>\n",
       "      <th>3</th>\n",
       "      <td>1994-09-29</td>\n",
       "      <td>-0.378176</td>\n",
       "      <td>-0.002718</td>\n",
       "      <td>1.106878</td>\n",
       "      <td>1.066307</td>\n",
       "      <td>1.150456</td>\n",
       "      <td>1.109603</td>\n",
       "      <td>2.713044</td>\n",
       "      <td>-0.058174</td>\n",
       "    </tr>\n",
       "    <tr>\n",
       "      <th>4</th>\n",
       "      <td>1994-09-30</td>\n",
       "      <td>-0.499163</td>\n",
       "      <td>-0.179994</td>\n",
       "      <td>1.106878</td>\n",
       "      <td>1.066307</td>\n",
       "      <td>1.009802</td>\n",
       "      <td>0.971937</td>\n",
       "      <td>-3.032493</td>\n",
       "      <td>-0.241277</td>\n",
       "    </tr>\n",
       "    <tr>\n",
       "      <th>...</th>\n",
       "      <td>...</td>\n",
       "      <td>...</td>\n",
       "      <td>...</td>\n",
       "      <td>...</td>\n",
       "      <td>...</td>\n",
       "      <td>...</td>\n",
       "      <td>...</td>\n",
       "      <td>...</td>\n",
       "      <td>...</td>\n",
       "    </tr>\n",
       "    <tr>\n",
       "      <th>7519</th>\n",
       "      <td>2024-07-03</td>\n",
       "      <td>-0.320727</td>\n",
       "      <td>-0.229781</td>\n",
       "      <td>-0.053761</td>\n",
       "      <td>-0.058024</td>\n",
       "      <td>-0.036669</td>\n",
       "      <td>-0.048168</td>\n",
       "      <td>0.172912</td>\n",
       "      <td>-0.039776</td>\n",
       "    </tr>\n",
       "    <tr>\n",
       "      <th>7520</th>\n",
       "      <td>2024-07-04</td>\n",
       "      <td>-0.102691</td>\n",
       "      <td>-0.094555</td>\n",
       "      <td>-0.041384</td>\n",
       "      <td>-0.049945</td>\n",
       "      <td>-0.031043</td>\n",
       "      <td>-0.039908</td>\n",
       "      <td>0.172912</td>\n",
       "      <td>0.221737</td>\n",
       "    </tr>\n",
       "    <tr>\n",
       "      <th>7521</th>\n",
       "      <td>2024-07-05</td>\n",
       "      <td>1.366626</td>\n",
       "      <td>0.850979</td>\n",
       "      <td>-0.035884</td>\n",
       "      <td>-0.006857</td>\n",
       "      <td>-0.018384</td>\n",
       "      <td>0.006898</td>\n",
       "      <td>1.019623</td>\n",
       "      <td>2.734367</td>\n",
       "    </tr>\n",
       "    <tr>\n",
       "      <th>7522</th>\n",
       "      <td>2024-07-08</td>\n",
       "      <td>0.138539</td>\n",
       "      <td>0.071467</td>\n",
       "      <td>0.012247</td>\n",
       "      <td>-0.005510</td>\n",
       "      <td>-0.000099</td>\n",
       "      <td>-0.010998</td>\n",
       "      <td>-0.401642</td>\n",
       "      <td>1.381244</td>\n",
       "    </tr>\n",
       "    <tr>\n",
       "      <th>7523</th>\n",
       "      <td>2024-07-09</td>\n",
       "      <td>0.010245</td>\n",
       "      <td>-0.022213</td>\n",
       "      <td>-0.011131</td>\n",
       "      <td>-0.024361</td>\n",
       "      <td>-0.029636</td>\n",
       "      <td>-0.041285</td>\n",
       "      <td>-0.673799</td>\n",
       "      <td>1.273485</td>\n",
       "    </tr>\n",
       "  </tbody>\n",
       "</table>\n",
       "<p>7524 rows × 9 columns</p>\n",
       "</div>"
      ],
      "text/plain": [
       "            date  Trading_Volume  Trading_money      open       max       min  \\\n",
       "0     1994-09-24       -0.717771      -0.469740  0.749335  0.716216  0.784754   \n",
       "1     1994-09-26       -0.717255      -0.469096  0.859348  0.823936  0.897278   \n",
       "2     1994-09-27       -0.698539      -0.444840  0.983113  0.945121  1.023867   \n",
       "3     1994-09-29       -0.378176      -0.002718  1.106878  1.066307  1.150456   \n",
       "4     1994-09-30       -0.499163      -0.179994  1.106878  1.066307  1.009802   \n",
       "...          ...             ...            ...       ...       ...       ...   \n",
       "7519  2024-07-03       -0.320727      -0.229781 -0.053761 -0.058024 -0.036669   \n",
       "7520  2024-07-04       -0.102691      -0.094555 -0.041384 -0.049945 -0.031043   \n",
       "7521  2024-07-05        1.366626       0.850979 -0.035884 -0.006857 -0.018384   \n",
       "7522  2024-07-08        0.138539       0.071467  0.012247 -0.005510 -0.000099   \n",
       "7523  2024-07-09        0.010245      -0.022213 -0.011131 -0.024361 -0.029636   \n",
       "\n",
       "         close    spread  Trading_turnover  \n",
       "0     0.751672  2.410647         -0.743277  \n",
       "1     0.861804  2.410647         -0.741525  \n",
       "2     0.985704  2.713044         -0.700349  \n",
       "3     1.109603  2.713044         -0.058174  \n",
       "4     0.971937 -3.032493         -0.241277  \n",
       "...        ...       ...               ...  \n",
       "7519 -0.048168  0.172912         -0.039776  \n",
       "7520 -0.039908  0.172912          0.221737  \n",
       "7521  0.006898  1.019623          2.734367  \n",
       "7522 -0.010998 -0.401642          1.381244  \n",
       "7523 -0.041285 -0.673799          1.273485  \n",
       "\n",
       "[7524 rows x 9 columns]"
      ]
     },
     "execution_count": 103,
     "metadata": {},
     "output_type": "execute_result"
    }
   ],
   "source": [
    "std_stock_data = stock_data.apply(lambda x: standardize(x) if pd.api.types.is_any_real_numeric_dtype(x) else x, axis=0)\n",
    "std_stock_data.drop(columns=['Unnamed: 0', 'stock_id'], inplace=True)\n",
    "std_stock_data"
   ]
  },
  {
   "cell_type": "code",
   "execution_count": 104,
   "metadata": {},
   "outputs": [
    {
     "data": {
      "text/html": [
       "<div>\n",
       "<style scoped>\n",
       "    .dataframe tbody tr th:only-of-type {\n",
       "        vertical-align: middle;\n",
       "    }\n",
       "\n",
       "    .dataframe tbody tr th {\n",
       "        vertical-align: top;\n",
       "    }\n",
       "\n",
       "    .dataframe thead th {\n",
       "        text-align: right;\n",
       "    }\n",
       "</style>\n",
       "<table border=\"1\" class=\"dataframe\">\n",
       "  <thead>\n",
       "    <tr style=\"text-align: right;\">\n",
       "      <th></th>\n",
       "      <th>date</th>\n",
       "      <th>Trading_Volume</th>\n",
       "      <th>Trading_money</th>\n",
       "      <th>open</th>\n",
       "      <th>max</th>\n",
       "      <th>min</th>\n",
       "      <th>close</th>\n",
       "      <th>spread</th>\n",
       "      <th>Trading_turnover</th>\n",
       "    </tr>\n",
       "  </thead>\n",
       "  <tbody>\n",
       "    <tr>\n",
       "      <th>0</th>\n",
       "      <td>1994-09-24</td>\n",
       "      <td>-0.717771</td>\n",
       "      <td>-0.469740</td>\n",
       "      <td>0.749335</td>\n",
       "      <td>0.716216</td>\n",
       "      <td>0.784754</td>\n",
       "      <td>0.751672</td>\n",
       "      <td>2.410647</td>\n",
       "      <td>-0.743277</td>\n",
       "    </tr>\n",
       "    <tr>\n",
       "      <th>1</th>\n",
       "      <td>1994-09-26</td>\n",
       "      <td>-0.717255</td>\n",
       "      <td>-0.469096</td>\n",
       "      <td>0.859348</td>\n",
       "      <td>0.823936</td>\n",
       "      <td>0.897278</td>\n",
       "      <td>0.861804</td>\n",
       "      <td>2.410647</td>\n",
       "      <td>-0.741525</td>\n",
       "    </tr>\n",
       "    <tr>\n",
       "      <th>2</th>\n",
       "      <td>1994-09-27</td>\n",
       "      <td>-0.698539</td>\n",
       "      <td>-0.444840</td>\n",
       "      <td>0.983113</td>\n",
       "      <td>0.945121</td>\n",
       "      <td>1.023867</td>\n",
       "      <td>0.985704</td>\n",
       "      <td>2.713044</td>\n",
       "      <td>-0.700349</td>\n",
       "    </tr>\n",
       "    <tr>\n",
       "      <th>3</th>\n",
       "      <td>1994-09-29</td>\n",
       "      <td>-0.378176</td>\n",
       "      <td>-0.002718</td>\n",
       "      <td>1.106878</td>\n",
       "      <td>1.066307</td>\n",
       "      <td>1.150456</td>\n",
       "      <td>1.109603</td>\n",
       "      <td>2.713044</td>\n",
       "      <td>-0.058174</td>\n",
       "    </tr>\n",
       "    <tr>\n",
       "      <th>4</th>\n",
       "      <td>1994-09-30</td>\n",
       "      <td>-0.499163</td>\n",
       "      <td>-0.179994</td>\n",
       "      <td>1.106878</td>\n",
       "      <td>1.066307</td>\n",
       "      <td>1.009802</td>\n",
       "      <td>0.971937</td>\n",
       "      <td>-3.032493</td>\n",
       "      <td>-0.241277</td>\n",
       "    </tr>\n",
       "    <tr>\n",
       "      <th>...</th>\n",
       "      <td>...</td>\n",
       "      <td>...</td>\n",
       "      <td>...</td>\n",
       "      <td>...</td>\n",
       "      <td>...</td>\n",
       "      <td>...</td>\n",
       "      <td>...</td>\n",
       "      <td>...</td>\n",
       "      <td>...</td>\n",
       "    </tr>\n",
       "    <tr>\n",
       "      <th>7519</th>\n",
       "      <td>2024-07-03</td>\n",
       "      <td>-0.320727</td>\n",
       "      <td>-0.229781</td>\n",
       "      <td>-0.053761</td>\n",
       "      <td>-0.058024</td>\n",
       "      <td>-0.036669</td>\n",
       "      <td>-0.048168</td>\n",
       "      <td>0.172912</td>\n",
       "      <td>-0.039776</td>\n",
       "    </tr>\n",
       "    <tr>\n",
       "      <th>7520</th>\n",
       "      <td>2024-07-04</td>\n",
       "      <td>-0.102691</td>\n",
       "      <td>-0.094555</td>\n",
       "      <td>-0.041384</td>\n",
       "      <td>-0.049945</td>\n",
       "      <td>-0.031043</td>\n",
       "      <td>-0.039908</td>\n",
       "      <td>0.172912</td>\n",
       "      <td>0.221737</td>\n",
       "    </tr>\n",
       "    <tr>\n",
       "      <th>7521</th>\n",
       "      <td>2024-07-05</td>\n",
       "      <td>1.366626</td>\n",
       "      <td>0.850979</td>\n",
       "      <td>-0.035884</td>\n",
       "      <td>-0.006857</td>\n",
       "      <td>-0.018384</td>\n",
       "      <td>0.006898</td>\n",
       "      <td>1.019623</td>\n",
       "      <td>2.734367</td>\n",
       "    </tr>\n",
       "    <tr>\n",
       "      <th>7522</th>\n",
       "      <td>2024-07-08</td>\n",
       "      <td>0.138539</td>\n",
       "      <td>0.071467</td>\n",
       "      <td>0.012247</td>\n",
       "      <td>-0.005510</td>\n",
       "      <td>-0.000099</td>\n",
       "      <td>-0.010998</td>\n",
       "      <td>-0.401642</td>\n",
       "      <td>1.381244</td>\n",
       "    </tr>\n",
       "    <tr>\n",
       "      <th>7523</th>\n",
       "      <td>2024-07-09</td>\n",
       "      <td>0.010245</td>\n",
       "      <td>-0.022213</td>\n",
       "      <td>-0.011131</td>\n",
       "      <td>-0.024361</td>\n",
       "      <td>-0.029636</td>\n",
       "      <td>-0.041285</td>\n",
       "      <td>-0.673799</td>\n",
       "      <td>1.273485</td>\n",
       "    </tr>\n",
       "  </tbody>\n",
       "</table>\n",
       "<p>7524 rows × 9 columns</p>\n",
       "</div>"
      ],
      "text/plain": [
       "            date  Trading_Volume  Trading_money      open       max       min  \\\n",
       "0     1994-09-24       -0.717771      -0.469740  0.749335  0.716216  0.784754   \n",
       "1     1994-09-26       -0.717255      -0.469096  0.859348  0.823936  0.897278   \n",
       "2     1994-09-27       -0.698539      -0.444840  0.983113  0.945121  1.023867   \n",
       "3     1994-09-29       -0.378176      -0.002718  1.106878  1.066307  1.150456   \n",
       "4     1994-09-30       -0.499163      -0.179994  1.106878  1.066307  1.009802   \n",
       "...          ...             ...            ...       ...       ...       ...   \n",
       "7519  2024-07-03       -0.320727      -0.229781 -0.053761 -0.058024 -0.036669   \n",
       "7520  2024-07-04       -0.102691      -0.094555 -0.041384 -0.049945 -0.031043   \n",
       "7521  2024-07-05        1.366626       0.850979 -0.035884 -0.006857 -0.018384   \n",
       "7522  2024-07-08        0.138539       0.071467  0.012247 -0.005510 -0.000099   \n",
       "7523  2024-07-09        0.010245      -0.022213 -0.011131 -0.024361 -0.029636   \n",
       "\n",
       "         close    spread  Trading_turnover  \n",
       "0     0.751672  2.410647         -0.743277  \n",
       "1     0.861804  2.410647         -0.741525  \n",
       "2     0.985704  2.713044         -0.700349  \n",
       "3     1.109603  2.713044         -0.058174  \n",
       "4     0.971937 -3.032493         -0.241277  \n",
       "...        ...       ...               ...  \n",
       "7519 -0.048168  0.172912         -0.039776  \n",
       "7520 -0.039908  0.172912          0.221737  \n",
       "7521  0.006898  1.019623          2.734367  \n",
       "7522 -0.010998 -0.401642          1.381244  \n",
       "7523 -0.041285 -0.673799          1.273485  \n",
       "\n",
       "[7524 rows x 9 columns]"
      ]
     },
     "execution_count": 104,
     "metadata": {},
     "output_type": "execute_result"
    }
   ],
   "source": [
    "data = std_stock_data.copy()\n",
    "df_ma = data.apply(lambda x: moving_average(x, 1) if pd.api.types.is_any_real_numeric_dtype(x) else x, axis=0)\n",
    "df_ma"
   ]
  },
  {
   "cell_type": "code",
   "execution_count": 105,
   "metadata": {},
   "outputs": [
    {
     "data": {
      "text/html": [
       "<div>\n",
       "<style scoped>\n",
       "    .dataframe tbody tr th:only-of-type {\n",
       "        vertical-align: middle;\n",
       "    }\n",
       "\n",
       "    .dataframe tbody tr th {\n",
       "        vertical-align: top;\n",
       "    }\n",
       "\n",
       "    .dataframe thead th {\n",
       "        text-align: right;\n",
       "    }\n",
       "</style>\n",
       "<table border=\"1\" class=\"dataframe\">\n",
       "  <thead>\n",
       "    <tr style=\"text-align: right;\">\n",
       "      <th></th>\n",
       "      <th>Trading_Volume</th>\n",
       "      <th>Trading_money</th>\n",
       "      <th>open</th>\n",
       "      <th>max</th>\n",
       "      <th>min</th>\n",
       "      <th>close</th>\n",
       "      <th>spread</th>\n",
       "      <th>Trading_turnover</th>\n",
       "    </tr>\n",
       "  </thead>\n",
       "  <tbody>\n",
       "    <tr>\n",
       "      <th>count</th>\n",
       "      <td>7.524000e+03</td>\n",
       "      <td>7524.000000</td>\n",
       "      <td>7.524000e+03</td>\n",
       "      <td>7524.000000</td>\n",
       "      <td>7.524000e+03</td>\n",
       "      <td>7.524000e+03</td>\n",
       "      <td>7.524000e+03</td>\n",
       "      <td>7.524000e+03</td>\n",
       "    </tr>\n",
       "    <tr>\n",
       "      <th>mean</th>\n",
       "      <td>2.266484e-17</td>\n",
       "      <td>0.000000</td>\n",
       "      <td>6.043957e-17</td>\n",
       "      <td>0.000000</td>\n",
       "      <td>6.043957e-17</td>\n",
       "      <td>-6.043957e-17</td>\n",
       "      <td>-5.194026e-18</td>\n",
       "      <td>-3.777473e-17</td>\n",
       "    </tr>\n",
       "    <tr>\n",
       "      <th>std</th>\n",
       "      <td>1.000066e+00</td>\n",
       "      <td>1.000066</td>\n",
       "      <td>1.000066e+00</td>\n",
       "      <td>1.000066</td>\n",
       "      <td>1.000066e+00</td>\n",
       "      <td>1.000066e+00</td>\n",
       "      <td>1.000066e+00</td>\n",
       "      <td>1.000066e+00</td>\n",
       "    </tr>\n",
       "    <tr>\n",
       "      <th>min</th>\n",
       "      <td>-7.177712e-01</td>\n",
       "      <td>-0.469740</td>\n",
       "      <td>-8.244026e-01</td>\n",
       "      <td>-0.817183</td>\n",
       "      <td>-8.248974e-01</td>\n",
       "      <td>-8.204742e-01</td>\n",
       "      <td>-9.080426e+00</td>\n",
       "      <td>-7.432773e-01</td>\n",
       "    </tr>\n",
       "    <tr>\n",
       "      <th>25%</th>\n",
       "      <td>-5.485929e-01</td>\n",
       "      <td>-0.406487</td>\n",
       "      <td>-5.831988e-01</td>\n",
       "      <td>-0.581814</td>\n",
       "      <td>-5.838153e-01</td>\n",
       "      <td>-5.823120e-01</td>\n",
       "      <td>-1.899641e-01</td>\n",
       "      <td>-5.373959e-01</td>\n",
       "    </tr>\n",
       "    <tr>\n",
       "      <th>50%</th>\n",
       "      <td>-3.043701e-01</td>\n",
       "      <td>-0.303850</td>\n",
       "      <td>-3.652353e-01</td>\n",
       "      <td>-0.366373</td>\n",
       "      <td>-3.658006e-01</td>\n",
       "      <td>-3.661764e-01</td>\n",
       "      <td>-8.526107e-03</td>\n",
       "      <td>-3.082980e-01</td>\n",
       "    </tr>\n",
       "    <tr>\n",
       "      <th>75%</th>\n",
       "      <td>1.641168e-01</td>\n",
       "      <td>-0.040317</td>\n",
       "      <td>-2.075675e-02</td>\n",
       "      <td>-0.021332</td>\n",
       "      <td>-1.697711e-02</td>\n",
       "      <td>-2.201137e-02</td>\n",
       "      <td>1.729119e-01</td>\n",
       "      <td>1.482550e-01</td>\n",
       "    </tr>\n",
       "    <tr>\n",
       "      <th>max</th>\n",
       "      <td>2.045259e+01</td>\n",
       "      <td>14.707253</td>\n",
       "      <td>5.644919e+00</td>\n",
       "      <td>5.563629</td>\n",
       "      <td>5.707667e+00</td>\n",
       "      <td>5.597515e+00</td>\n",
       "      <td>8.458580e+00</td>\n",
       "      <td>2.556049e+01</td>\n",
       "    </tr>\n",
       "  </tbody>\n",
       "</table>\n",
       "</div>"
      ],
      "text/plain": [
       "       Trading_Volume  Trading_money          open          max           min  \\\n",
       "count    7.524000e+03    7524.000000  7.524000e+03  7524.000000  7.524000e+03   \n",
       "mean     2.266484e-17       0.000000  6.043957e-17     0.000000  6.043957e-17   \n",
       "std      1.000066e+00       1.000066  1.000066e+00     1.000066  1.000066e+00   \n",
       "min     -7.177712e-01      -0.469740 -8.244026e-01    -0.817183 -8.248974e-01   \n",
       "25%     -5.485929e-01      -0.406487 -5.831988e-01    -0.581814 -5.838153e-01   \n",
       "50%     -3.043701e-01      -0.303850 -3.652353e-01    -0.366373 -3.658006e-01   \n",
       "75%      1.641168e-01      -0.040317 -2.075675e-02    -0.021332 -1.697711e-02   \n",
       "max      2.045259e+01      14.707253  5.644919e+00     5.563629  5.707667e+00   \n",
       "\n",
       "              close        spread  Trading_turnover  \n",
       "count  7.524000e+03  7.524000e+03      7.524000e+03  \n",
       "mean  -6.043957e-17 -5.194026e-18     -3.777473e-17  \n",
       "std    1.000066e+00  1.000066e+00      1.000066e+00  \n",
       "min   -8.204742e-01 -9.080426e+00     -7.432773e-01  \n",
       "25%   -5.823120e-01 -1.899641e-01     -5.373959e-01  \n",
       "50%   -3.661764e-01 -8.526107e-03     -3.082980e-01  \n",
       "75%   -2.201137e-02  1.729119e-01      1.482550e-01  \n",
       "max    5.597515e+00  8.458580e+00      2.556049e+01  "
      ]
     },
     "metadata": {},
     "output_type": "display_data"
    },
    {
     "data": {
      "image/png": "[encoded data removed]",
      "text/plain": [
       "<Figure size 1000x800 with 1 Axes>"
      ]
     },
     "metadata": {},
     "output_type": "display_data"
    }
   ],
   "source": [
    "display(df_ma.describe())\n",
    "df_ma.boxplot(figsize=(10,8))\n",
    "plt.show()"
   ]
  },
  {
   "cell_type": "code",
   "execution_count": 106,
   "metadata": {},
   "outputs": [
    {
     "data": {
      "text/plain": [
       "(5995, 30, 8)"
      ]
     },
     "execution_count": 106,
     "metadata": {},
     "output_type": "execute_result"
    }
   ],
   "source": [
    "data_set = df_ma.copy()\n",
    "data_set = data_set.drop(columns=['date'])\n",
    "\n",
    "time_steps = 30\n",
    "\n",
    "X = []\n",
    "Y = []\n",
    "\n",
    "for i in range(time_steps, len(data_set)):\n",
    "     X.append(data_set.iloc[i-time_steps:i].values)\n",
    "     Y.append(data_set.iloc[i]['close'])\n",
    "\n",
    "X = np.array(X)\n",
    "Y = np.array(Y)\n",
    "\n",
    "# 分割訓練集和測試集\n",
    "split_index = int(len(X) * 0.8)\n",
    "x_train, x_test = X[:split_index], X[split_index:]\n",
    "y_train, y_test = Y[:split_index], Y[split_index:]\n",
    "x_train.shape"
   ]
  },
  {
   "cell_type": "code",
   "execution_count": 107,
   "metadata": {},
   "outputs": [
    {
     "name": "stderr",
     "output_type": "stream",
     "text": [
      "d:\\Projects\\python\\DS\\stock\\venv\\Lib\\site-packages\\keras\\src\\layers\\rnn\\rnn.py:204: UserWarning: Do not pass an `input_shape`/`input_dim` argument to a layer. When using Sequential models, prefer using an `Input(shape)` object as the first layer in the model instead.\n",
      "  super().__init__(**kwargs)\n"
     ]
    }
   ],
   "source": [
    "model = Sequential()\n",
    "model.add(keras.layers.LSTM(units=50, input_shape=(x_train.shape[1], x_train.shape[2])))\n",
    "model.add(keras.layers.Dense(units=1))\n",
    "\n",
    "model.compile(optimizer='adam', loss='mse')"
   ]
  },
  {
   "cell_type": "code",
   "execution_count": 108,
   "metadata": {},
   "outputs": [
    {
     "name": "stdout",
     "output_type": "stream",
     "text": [
      "Epoch 1/10\n",
      "\u001b[1m150/150\u001b[0m \u001b[32m━━━━━━━━━━━━━━━━━━━━\u001b[0m\u001b[37m\u001b[0m \u001b[1m5s\u001b[0m 11ms/step - loss: 0.2337 - val_loss: 5.7699e-04\n",
      "Epoch 2/10\n",
      "\u001b[1m150/150\u001b[0m \u001b[32m━━━━━━━━━━━━━━━━━━━━\u001b[0m\u001b[37m\u001b[0m \u001b[1m1s\u001b[0m 8ms/step - loss: 0.0060 - val_loss: 4.3767e-04\n",
      "Epoch 3/10\n",
      "\u001b[1m150/150\u001b[0m \u001b[32m━━━━━━━━━━━━━━━━━━━━\u001b[0m\u001b[37m\u001b[0m \u001b[1m1s\u001b[0m 8ms/step - loss: 0.0063 - val_loss: 3.5225e-04\n",
      "Epoch 4/10\n",
      "\u001b[1m150/150\u001b[0m \u001b[32m━━━━━━━━━━━━━━━━━━━━\u001b[0m\u001b[37m\u001b[0m \u001b[1m1s\u001b[0m 8ms/step - loss: 0.0045 - val_loss: 3.8053e-04\n",
      "Epoch 5/10\n",
      "\u001b[1m150/150\u001b[0m \u001b[32m━━━━━━━━━━━━━━━━━━━━\u001b[0m\u001b[37m\u001b[0m \u001b[1m1s\u001b[0m 9ms/step - loss: 0.0053 - val_loss: 2.8561e-04\n",
      "Epoch 6/10\n",
      "\u001b[1m150/150\u001b[0m \u001b[32m━━━━━━━━━━━━━━━━━━━━\u001b[0m\u001b[37m\u001b[0m \u001b[1m1s\u001b[0m 8ms/step - loss: 0.0043 - val_loss: 2.8356e-04\n",
      "Epoch 7/10\n",
      "\u001b[1m150/150\u001b[0m \u001b[32m━━━━━━━━━━━━━━━━━━━━\u001b[0m\u001b[37m\u001b[0m \u001b[1m1s\u001b[0m 9ms/step - loss: 0.0048 - val_loss: 3.6393e-04\n",
      "Epoch 8/10\n",
      "\u001b[1m150/150\u001b[0m \u001b[32m━━━━━━━━━━━━━━━━━━━━\u001b[0m\u001b[37m\u001b[0m \u001b[1m1s\u001b[0m 8ms/step - loss: 0.0046 - val_loss: 2.4033e-04\n",
      "Epoch 9/10\n",
      "\u001b[1m150/150\u001b[0m \u001b[32m━━━━━━━━━━━━━━━━━━━━\u001b[0m\u001b[37m\u001b[0m \u001b[1m1s\u001b[0m 8ms/step - loss: 0.0037 - val_loss: 3.4506e-04\n",
      "Epoch 10/10\n",
      "\u001b[1m150/150\u001b[0m \u001b[32m━━━━━━━━━━━━━━━━━━━━\u001b[0m\u001b[37m\u001b[0m \u001b[1m1s\u001b[0m 8ms/step - loss: 0.0035 - val_loss: 3.0429e-04\n"
     ]
    },
    {
     "data": {
      "text/plain": [
       "<keras.src.callbacks.history.History at 0x2bd4faeb770>"
      ]
     },
     "execution_count": 108,
     "metadata": {},
     "output_type": "execute_result"
    }
   ],
   "source": [
    "model.fit(x_train, y_train, batch_size=32, epochs=10, validation_split=0.2)"
   ]
  },
  {
   "cell_type": "code",
   "execution_count": 109,
   "metadata": {},
   "outputs": [
    {
     "name": "stdout",
     "output_type": "stream",
     "text": [
      "\u001b[1m47/47\u001b[0m \u001b[32m━━━━━━━━━━━━━━━━━━━━\u001b[0m\u001b[37m\u001b[0m \u001b[1m0s\u001b[0m 4ms/step - loss: 2.9014e-04\n"
     ]
    },
    {
     "data": {
      "text/plain": [
       "0.0005098460824228823"
      ]
     },
     "execution_count": 109,
     "metadata": {},
     "output_type": "execute_result"
    }
   ],
   "source": [
    "evaluate = model.evaluate(x_test, y_test)\n",
    "evaluate"
   ]
  },
  {
   "cell_type": "code",
   "execution_count": 110,
   "metadata": {},
   "outputs": [
    {
     "name": "stdout",
     "output_type": "stream",
     "text": [
      "\u001b[1m47/47\u001b[0m \u001b[32m━━━━━━━━━━━━━━━━━━━━\u001b[0m\u001b[37m\u001b[0m \u001b[1m1s\u001b[0m 10ms/step\n"
     ]
    },
    {
     "data": {
      "text/plain": [
       "'MES:0.07885567515168683'"
      ]
     },
     "metadata": {},
     "output_type": "display_data"
    },
    {
     "data": {
      "text/plain": [
       "'RMSE:0.28081252670008655'"
      ]
     },
     "metadata": {},
     "output_type": "display_data"
    },
    {
     "data": {
      "image/png": "[encoded data removed]",
      "text/plain": [
       "<Figure size 1000x600 with 1 Axes>"
      ]
     },
     "metadata": {},
     "output_type": "display_data"
    }
   ],
   "source": [
    "predict = model.predict(x_test)\n",
    "\n",
    "mse = np.mean(((predict - y_test)**2))\n",
    "display(f\"MES:{mse}\")\n",
    "display(f\"RMSE:{np.sqrt(mse)}\")\n",
    "\n",
    "plt.figure(figsize=(10,6))\n",
    "plt.plot(y_test, color='blue', label='Actual')\n",
    "plt.plot(predict, color='red', label='Predicted')\n",
    "plt.title('Actual vs Predicted')\n",
    "plt.xlabel('Time')\n",
    "plt.ylabel('Close Price')\n",
    "plt.legend()\n",
    "plt.show()"
   ]
  },
  {
   "cell_type": "code",
   "execution_count": 111,
   "metadata": {},
   "outputs": [
    {
     "data": {
      "text/html": [
       "<div>\n",
       "<style scoped>\n",
       "    .dataframe tbody tr th:only-of-type {\n",
       "        vertical-align: middle;\n",
       "    }\n",
       "\n",
       "    .dataframe tbody tr th {\n",
       "        vertical-align: top;\n",
       "    }\n",
       "\n",
       "    .dataframe thead th {\n",
       "        text-align: right;\n",
       "    }\n",
       "</style>\n",
       "<table border=\"1\" class=\"dataframe\">\n",
       "  <thead>\n",
       "    <tr style=\"text-align: right;\">\n",
       "      <th></th>\n",
       "      <th>Unnamed: 0</th>\n",
       "      <th>date</th>\n",
       "      <th>stock_id</th>\n",
       "      <th>Trading_Volume</th>\n",
       "      <th>Trading_money</th>\n",
       "      <th>open</th>\n",
       "      <th>max</th>\n",
       "      <th>min</th>\n",
       "      <th>close</th>\n",
       "      <th>spread</th>\n",
       "      <th>Trading_turnover</th>\n",
       "    </tr>\n",
       "  </thead>\n",
       "  <tbody>\n",
       "    <tr>\n",
       "      <th>7523</th>\n",
       "      <td>7523</td>\n",
       "      <td>2024-07-09</td>\n",
       "      <td>2331</td>\n",
       "      <td>5642184</td>\n",
       "      <td>189228439</td>\n",
       "      <td>34.35</td>\n",
       "      <td>34.50</td>\n",
       "      <td>33.05</td>\n",
       "      <td>33.20</td>\n",
       "      <td>-1.10</td>\n",
       "      <td>4606</td>\n",
       "    </tr>\n",
       "    <tr>\n",
       "      <th>7522</th>\n",
       "      <td>7522</td>\n",
       "      <td>2024-07-08</td>\n",
       "      <td>2331</td>\n",
       "      <td>6636115</td>\n",
       "      <td>228813311</td>\n",
       "      <td>35.20</td>\n",
       "      <td>35.20</td>\n",
       "      <td>34.10</td>\n",
       "      <td>34.30</td>\n",
       "      <td>-0.65</td>\n",
       "      <td>4852</td>\n",
       "    </tr>\n",
       "    <tr>\n",
       "      <th>7521</th>\n",
       "      <td>7521</td>\n",
       "      <td>2024-07-05</td>\n",
       "      <td>2331</td>\n",
       "      <td>16150517</td>\n",
       "      <td>558199838</td>\n",
       "      <td>33.45</td>\n",
       "      <td>35.15</td>\n",
       "      <td>33.45</td>\n",
       "      <td>34.95</td>\n",
       "      <td>1.70</td>\n",
       "      <td>7941</td>\n",
       "    </tr>\n",
       "    <tr>\n",
       "      <th>7520</th>\n",
       "      <td>7520</td>\n",
       "      <td>2024-07-04</td>\n",
       "      <td>2331</td>\n",
       "      <td>4767228</td>\n",
       "      <td>158660016</td>\n",
       "      <td>33.25</td>\n",
       "      <td>33.55</td>\n",
       "      <td>33.00</td>\n",
       "      <td>33.25</td>\n",
       "      <td>0.30</td>\n",
       "      <td>2205</td>\n",
       "    </tr>\n",
       "    <tr>\n",
       "      <th>7519</th>\n",
       "      <td>7519</td>\n",
       "      <td>2024-07-03</td>\n",
       "      <td>2331</td>\n",
       "      <td>3078036</td>\n",
       "      <td>101519575</td>\n",
       "      <td>32.80</td>\n",
       "      <td>33.25</td>\n",
       "      <td>32.80</td>\n",
       "      <td>32.95</td>\n",
       "      <td>0.30</td>\n",
       "      <td>1608</td>\n",
       "    </tr>\n",
       "  </tbody>\n",
       "</table>\n",
       "</div>"
      ],
      "text/plain": [
       "      Unnamed: 0        date  stock_id  Trading_Volume  Trading_money   open  \\\n",
       "7523        7523  2024-07-09      2331         5642184      189228439  34.35   \n",
       "7522        7522  2024-07-08      2331         6636115      228813311  35.20   \n",
       "7521        7521  2024-07-05      2331        16150517      558199838  33.45   \n",
       "7520        7520  2024-07-04      2331         4767228      158660016  33.25   \n",
       "7519        7519  2024-07-03      2331         3078036      101519575  32.80   \n",
       "\n",
       "        max    min  close  spread  Trading_turnover  \n",
       "7523  34.50  33.05  33.20   -1.10              4606  \n",
       "7522  35.20  34.10  34.30   -0.65              4852  \n",
       "7521  35.15  33.45  34.95    1.70              7941  \n",
       "7520  33.55  33.00  33.25    0.30              2205  \n",
       "7519  33.25  32.80  32.95    0.30              1608  "
      ]
     },
     "metadata": {},
     "output_type": "display_data"
    },
    {
     "name": "stdout",
     "output_type": "stream",
     "text": [
      "\u001b[1m31/31\u001b[0m \u001b[32m━━━━━━━━━━━━━━━━━━━━\u001b[0m\u001b[37m\u001b[0m \u001b[1m0s\u001b[0m 5ms/step\n"
     ]
    }
   ],
   "source": [
    "data_set2 = stock_data.sort_values(by='date', ascending=False).head(1000)\n",
    "display(data_set2.head())\n",
    "data_set2 = data_set2.drop(columns=['Unnamed: 0', 'date', 'stock_id'])\n",
    "data_set2 = data_set2.apply(lambda x: standardize(x) if pd.api.types.is_any_real_numeric_dtype(x) else x, axis=0)\n",
    "data_set2 = data_set2.apply(lambda x: moving_average(x, 1) if pd.api.types.is_any_real_numeric_dtype(x) else x, axis=0)\n",
    "\n",
    "X = []\n",
    "Y = []\n",
    "\n",
    "for i in range(time_steps, len(data_set2)):\n",
    "     X.append(data_set2.iloc[i-time_steps:i].values)\n",
    "     Y.append(data_set2.iloc[i]['close'])\n",
    "\n",
    "X = np.array(X)\n",
    "pre = model.predict(X)"
   ]
  },
  {
   "cell_type": "code",
   "execution_count": 112,
   "metadata": {},
   "outputs": [
    {
     "data": {
      "text/plain": [
       "'MES:1.6409740848378689'"
      ]
     },
     "metadata": {},
     "output_type": "display_data"
    },
    {
     "data": {
      "text/plain": [
       "'RMSE:1.281005107264553'"
      ]
     },
     "metadata": {},
     "output_type": "display_data"
    },
    {
     "data": {
      "image/png": "[encoded data removed]",
      "text/plain": [
       "<Figure size 1000x600 with 1 Axes>"
      ]
     },
     "metadata": {},
     "output_type": "display_data"
    }
   ],
   "source": [
    "mse = np.mean(((pre - Y)**2))\n",
    "display(f\"MES:{mse}\")\n",
    "display(f\"RMSE:{np.sqrt(mse)}\")\n",
    "\n",
    "plt.figure(figsize=(10,6))\n",
    "plt.plot(Y, color='blue', label='Actual')\n",
    "plt.plot(pre, color='red', label='Predicted')\n",
    "plt.title('Actual vs Predicted')\n",
    "plt.xlabel('Time')\n",
    "plt.ylabel('Close Price')\n",
    "plt.legend()\n",
    "plt.show()"
   ]
  },
  {
   "cell_type": "code",
   "execution_count": 113,
   "metadata": {},
   "outputs": [
    {
     "data": {
      "text/plain": [
       "(7088, 60, 1)"
      ]
     },
     "execution_count": 113,
     "metadata": {},
     "output_type": "execute_result"
    }
   ],
   "source": [
    "close_data = stock_data.filter(['close'])\n",
    "dataset = close_data.values\n",
    "training = int(np.ceil(len(dataset)*.95))\n",
    "\n",
    "scaler = MinMaxScaler(feature_range=(0, 1))\n",
    "scaled_data = scaler.fit_transform(close_data)\n",
    "train_data = scaled_data[:training, :]\n",
    "\n",
    "x_train = []\n",
    "y_train = []\n",
    "\n",
    "for i in range(60, len(train_data)):\n",
    "    x_train.append(train_data[i-60:i, 0])\n",
    "    y_train.append(train_data[i, 0])\n",
    "\n",
    "x_train, y_train = np.array(x_train), np.array(y_train)\n",
    "x_train = np.reshape(x_train, (x_train.shape[0], x_train.shape[1], 1))\n",
    "x_train.shape"
   ]
  },
  {
   "cell_type": "code",
   "execution_count": 114,
   "metadata": {},
   "outputs": [
    {
     "name": "stderr",
     "output_type": "stream",
     "text": [
      "d:\\Projects\\python\\DS\\stock\\venv\\Lib\\site-packages\\keras\\src\\layers\\rnn\\rnn.py:204: UserWarning: Do not pass an `input_shape`/`input_dim` argument to a layer. When using Sequential models, prefer using an `Input(shape)` object as the first layer in the model instead.\n",
      "  super().__init__(**kwargs)\n"
     ]
    },
    {
     "data": {
      "text/plain": [
       "<bound method Model.summary of <Sequential name=sequential_8, built=True>>"
      ]
     },
     "execution_count": 114,
     "metadata": {},
     "output_type": "execute_result"
    }
   ],
   "source": [
    "model = keras.models.Sequential()\n",
    "model.add(keras.layers.LSTM(units=64,\n",
    "                            return_sequences=True,\n",
    "                            input_shape=(x_train.shape[1], 1)))\n",
    "model.add(keras.layers.LSTM(units=64))\n",
    "model.add(keras.layers.Dense(32))\n",
    "model.add(keras.layers.Dropout(0.5))\n",
    "model.add(keras.layers.Dense(1))\n",
    "model.summary"
   ]
  },
  {
   "cell_type": "code",
   "execution_count": 115,
   "metadata": {},
   "outputs": [
    {
     "name": "stdout",
     "output_type": "stream",
     "text": [
      "Epoch 1/10\n",
      "\u001b[1m222/222\u001b[0m \u001b[32m━━━━━━━━━━━━━━━━━━━━\u001b[0m\u001b[37m\u001b[0m \u001b[1m12s\u001b[0m 27ms/step - loss: 0.0043\n",
      "Epoch 2/10\n",
      "\u001b[1m222/222\u001b[0m \u001b[32m━━━━━━━━━━━━━━━━━━━━\u001b[0m\u001b[37m\u001b[0m \u001b[1m6s\u001b[0m 26ms/step - loss: 0.0017\n",
      "Epoch 3/10\n",
      "\u001b[1m222/222\u001b[0m \u001b[32m━━━━━━━━━━━━━━━━━━━━\u001b[0m\u001b[37m\u001b[0m \u001b[1m6s\u001b[0m 27ms/step - loss: 0.0013\n",
      "Epoch 4/10\n",
      "\u001b[1m222/222\u001b[0m \u001b[32m━━━━━━━━━━━━━━━━━━━━\u001b[0m\u001b[37m\u001b[0m \u001b[1m6s\u001b[0m 26ms/step - loss: 0.0016\n",
      "Epoch 5/10\n",
      "\u001b[1m222/222\u001b[0m \u001b[32m━━━━━━━━━━━━━━━━━━━━\u001b[0m\u001b[37m\u001b[0m \u001b[1m6s\u001b[0m 26ms/step - loss: 0.0016\n",
      "Epoch 6/10\n",
      "\u001b[1m222/222\u001b[0m \u001b[32m━━━━━━━━━━━━━━━━━━━━\u001b[0m\u001b[37m\u001b[0m \u001b[1m6s\u001b[0m 26ms/step - loss: 0.0011\n",
      "Epoch 7/10\n",
      "\u001b[1m222/222\u001b[0m \u001b[32m━━━━━━━━━━━━━━━━━━━━\u001b[0m\u001b[37m\u001b[0m \u001b[1m6s\u001b[0m 26ms/step - loss: 9.9071e-04\n",
      "Epoch 8/10\n",
      "\u001b[1m222/222\u001b[0m \u001b[32m━━━━━━━━━━━━━━━━━━━━\u001b[0m\u001b[37m\u001b[0m \u001b[1m6s\u001b[0m 28ms/step - loss: 0.0012\n",
      "Epoch 9/10\n",
      "\u001b[1m222/222\u001b[0m \u001b[32m━━━━━━━━━━━━━━━━━━━━\u001b[0m\u001b[37m\u001b[0m \u001b[1m6s\u001b[0m 26ms/step - loss: 0.0010\n",
      "Epoch 10/10\n",
      "\u001b[1m222/222\u001b[0m \u001b[32m━━━━━━━━━━━━━━━━━━━━\u001b[0m\u001b[37m\u001b[0m \u001b[1m6s\u001b[0m 26ms/step - loss: 0.0010\n"
     ]
    }
   ],
   "source": [
    "model.compile(optimizer='adam',\n",
    "              loss='mean_squared_error')\n",
    "history = model.fit(x_train,\n",
    "                    y_train,\n",
    "                    epochs=10)"
   ]
  },
  {
   "cell_type": "code",
   "execution_count": 116,
   "metadata": {},
   "outputs": [
    {
     "name": "stdout",
     "output_type": "stream",
     "text": [
      "\u001b[1m12/12\u001b[0m \u001b[32m━━━━━━━━━━━━━━━━━━━━\u001b[0m\u001b[37m\u001b[0m \u001b[1m1s\u001b[0m 62ms/step\n"
     ]
    },
    {
     "data": {
      "text/plain": [
       "'MES:1.0056929623079764'"
      ]
     },
     "metadata": {},
     "output_type": "display_data"
    },
    {
     "data": {
      "text/plain": [
       "'RMSE:1.0028424414173827'"
      ]
     },
     "metadata": {},
     "output_type": "display_data"
    }
   ],
   "source": [
    "test_data = scaled_data[training-60:, :]\n",
    "x_test = []\n",
    "y_test = dataset[training:, :]\n",
    "for i in range(60, len(test_data)):\n",
    "    x_test.append(test_data[i-60:i, 0])\n",
    "\n",
    "x_test = np.array(x_test)\n",
    "x_test = np.reshape(x_test, (x_test.shape[0], x_test.shape[1], 1))\n",
    "\n",
    "predict = model.predict(x_test)\n",
    "predict = scaler.inverse_transform(predict)\n",
    "\n",
    "mse = np.mean(((predict - y_test)**2))\n",
    "display(f\"MES:{mse}\")\n",
    "display(f\"RMSE:{np.sqrt(mse)}\")"
   ]
  },
  {
   "cell_type": "code",
   "execution_count": 117,
   "metadata": {},
   "outputs": [
    {
     "name": "stderr",
     "output_type": "stream",
     "text": [
      "C:\\Users\\GS75\\AppData\\Local\\Temp\\ipykernel_20912\\2733432594.py:3: SettingWithCopyWarning: \n",
      "A value is trying to be set on a copy of a slice from a DataFrame.\n",
      "Try using .loc[row_indexer,col_indexer] = value instead\n",
      "\n",
      "See the caveats in the documentation: https://pandas.pydata.org/pandas-docs/stable/user_guide/indexing.html#returning-a-view-versus-a-copy\n",
      "  test['Predict'] = predict\n"
     ]
    },
    {
     "data": {
      "text/plain": [
       "<matplotlib.legend.Legend at 0x2bd52b9e0c0>"
      ]
     },
     "execution_count": 117,
     "metadata": {},
     "output_type": "execute_result"
    }
   ],
   "source": [
    "train = stock_data[:training]\n",
    "test = stock_data[training:]\n",
    "test['Predict'] = predict\n",
    "\n",
    "plt.figure(figsize=(10, 8))\n",
    "plt.plot(train['date'], train['close']) \n",
    "plt.plot(test['date'], test[['close', 'Predict']]) \n",
    "plt.title('Stock Close Price') \n",
    "plt.xlabel('date') \n",
    "plt.ylabel(\"close\") \n",
    "plt.legend(['Train', 'Test', 'Predict']) "
   ]
  }
 ],
 "metadata": {
  "kernelspec": {
   "display_name": "venv",
   "language": "python",
   "name": "python3"
  },
  "language_info": {
   "codemirror_mode": {
    "name": "ipython",
    "version": 3
   },
   "file_extension": ".py",
   "mimetype": "text/x-python",
   "name": "python",
   "nbconvert_exporter": "python",
   "pygments_lexer": "ipython3",
   "version": "3.12.4"
  }
 },
 "nbformat": 4,
 "nbformat_minor": 2
}
